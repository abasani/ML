{
 "cells": [
  {
   "cell_type": "markdown",
   "metadata": {},
   "source": [
    "Preprocessing is a step, in which raw data is modified or transformed into a format, suitable for further downstream processing.\n",
    "\n",
    "scikit-learn provides many preprocessing utilities such as,\n",
    "\n",
    "Standardization mean removal\n",
    "Scaling\n",
    "Normalization\n",
    "Binarization\n",
    "One Hot Encoding\n",
    "Label Encoding\n",
    "Imputation"
   ]
  },
  {
   "cell_type": "code",
   "execution_count": null,
   "metadata": {},
   "outputs": [],
   "source": []
  }
 ],
 "metadata": {
  "kernelspec": {
   "display_name": "Python 3",
   "language": "python",
   "name": "python3"
  },
  "language_info": {
   "codemirror_mode": {
    "name": "ipython",
    "version": 3
   },
   "file_extension": ".py",
   "mimetype": "text/x-python",
   "name": "python",
   "nbconvert_exporter": "python",
   "pygments_lexer": "ipython3",
   "version": "3.7.6"
  }
 },
 "nbformat": 4,
 "nbformat_minor": 4
}
